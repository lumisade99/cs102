{
 "cells": [
  {
   "cell_type": "markdown",
   "metadata": {},
   "source": [
    "# Неделя 2. Решение на R"
   ]
  },
  {
   "cell_type": "code",
   "execution_count": 10,
   "metadata": {},
   "outputs": [],
   "source": [
    "library(ggplot2)"
   ]
  },
  {
   "cell_type": "code",
   "execution_count": 3,
   "metadata": {},
   "outputs": [
    {
     "name": "stderr",
     "output_type": "stream",
     "text": [
      "Installing package into 'C:/Users/user/Documents/R/win-library/3.4'\n",
      "(as 'lib' is unspecified)\n",
      "also installing the dependencies 'memoise', 'git2r'\n",
      "\n"
     ]
    },
    {
     "name": "stdout",
     "output_type": "stream",
     "text": [
      "package 'memoise' successfully unpacked and MD5 sums checked\n",
      "package 'git2r' successfully unpacked and MD5 sums checked\n",
      "package 'devtools' successfully unpacked and MD5 sums checked\n",
      "\n",
      "The downloaded binary packages are in\n",
      "\tC:\\Users\\user\\AppData\\Local\\Temp\\RtmpULBTVH\\downloaded_packages\n"
     ]
    }
   ],
   "source": [
    "install.packages(\"devtools\")"
   ]
  },
  {
   "cell_type": "code",
   "execution_count": 4,
   "metadata": {},
   "outputs": [
    {
     "name": "stderr",
     "output_type": "stream",
     "text": [
      "Downloading GitHub repo WinVector/WVPlots@master\n",
      "from URL https://api.github.com/repos/WinVector/WVPlots/zipball/master\n",
      "Installing WVPlots\n",
      "Installing 1 package: cdata\n",
      "Installing package into 'C:/Users/user/Documents/R/win-library/3.4'\n",
      "(as 'lib' is unspecified)\n",
      "also installing the dependency 'wrapr'\n",
      "\n"
     ]
    },
    {
     "name": "stdout",
     "output_type": "stream",
     "text": [
      "package 'wrapr' successfully unpacked and MD5 sums checked\n",
      "package 'cdata' successfully unpacked and MD5 sums checked\n",
      "\n",
      "The downloaded binary packages are in\n",
      "\tC:\\Users\\user\\AppData\\Local\\Temp\\RtmpULBTVH\\downloaded_packages\n"
     ]
    },
    {
     "name": "stderr",
     "output_type": "stream",
     "text": [
      "Installing 1 package: gridExtra\n",
      "Installing package into 'C:/Users/user/Documents/R/win-library/3.4'\n",
      "(as 'lib' is unspecified)\n"
     ]
    },
    {
     "name": "stdout",
     "output_type": "stream",
     "text": [
      "package 'gridExtra' successfully unpacked and MD5 sums checked\n",
      "\n",
      "The downloaded binary packages are in\n",
      "\tC:\\Users\\user\\AppData\\Local\\Temp\\RtmpULBTVH\\downloaded_packages\n"
     ]
    },
    {
     "name": "stderr",
     "output_type": "stream",
     "text": [
      "Installing 1 package: sigr\n",
      "Installing package into 'C:/Users/user/Documents/R/win-library/3.4'\n",
      "(as 'lib' is unspecified)\n"
     ]
    },
    {
     "name": "stdout",
     "output_type": "stream",
     "text": [
      "package 'sigr' successfully unpacked and MD5 sums checked\n",
      "\n",
      "The downloaded binary packages are in\n",
      "\tC:\\Users\\user\\AppData\\Local\\Temp\\RtmpULBTVH\\downloaded_packages\n"
     ]
    },
    {
     "name": "stderr",
     "output_type": "stream",
     "text": [
      "Skipping install of 'wrapr' from a cran remote, the SHA1 (0.4.1) has not changed since last install.\n",
      "  Use `force = TRUE` to force installation\n",
      "\"C:/Users/user/Anaconda3/lib/R/bin/x64/R\" --no-site-file --no-environ  \\\n",
      "  --no-save --no-restore --quiet CMD INSTALL  \\\n",
      "  \"C:/Users/user/AppData/Local/Temp/RtmpULBTVH/devtools3ef839461d9/WinVector-WVPlots-b4a9e9d\"  \\\n",
      "  --library=\"C:/Users/user/Documents/R/win-library/3.4\" --install-tests \n",
      "\n",
      "Installation failed: Command failed (1)\n"
     ]
    }
   ],
   "source": [
    "devtools::install_github(\"WinVector/WVPlots\")"
   ]
  },
  {
   "cell_type": "code",
   "execution_count": 2,
   "metadata": {},
   "outputs": [],
   "source": [
    "df <- read.csv('mlbootcamp5_train.csv', header = TRUE, sep=\";\")"
   ]
  },
  {
   "cell_type": "code",
   "execution_count": 4,
   "metadata": {},
   "outputs": [
    {
     "data": {
      "text/html": [
       "<table>\n",
       "<thead><tr><th scope=col>id</th><th scope=col>age</th><th scope=col>gender</th><th scope=col>height</th><th scope=col>weight</th><th scope=col>ap_hi</th><th scope=col>ap_lo</th><th scope=col>cholesterol</th><th scope=col>gluc</th><th scope=col>smoke</th><th scope=col>alco</th><th scope=col>active</th><th scope=col>cardio</th><th scope=col>log_ap_hi</th></tr></thead>\n",
       "<tbody>\n",
       "\t<tr><td>0       </td><td>18393   </td><td>2       </td><td>168     </td><td>62      </td><td>110     </td><td> 80     </td><td>1       </td><td>1       </td><td>0       </td><td>0       </td><td>1       </td><td>0       </td><td>2.041393</td></tr>\n",
       "\t<tr><td>1       </td><td>20228   </td><td>1       </td><td>156     </td><td>85      </td><td>140     </td><td> 90     </td><td>3       </td><td>1       </td><td>0       </td><td>0       </td><td>1       </td><td>1       </td><td>2.146128</td></tr>\n",
       "\t<tr><td>2       </td><td>18857   </td><td>1       </td><td>165     </td><td>64      </td><td>130     </td><td> 70     </td><td>3       </td><td>1       </td><td>0       </td><td>0       </td><td>0       </td><td>1       </td><td>2.113943</td></tr>\n",
       "\t<tr><td>3       </td><td>17623   </td><td>2       </td><td>169     </td><td>82      </td><td>150     </td><td>100     </td><td>1       </td><td>1       </td><td>0       </td><td>0       </td><td>1       </td><td>1       </td><td>2.176091</td></tr>\n",
       "\t<tr><td>4       </td><td>17474   </td><td>1       </td><td>156     </td><td>56      </td><td>100     </td><td> 60     </td><td>1       </td><td>1       </td><td>0       </td><td>0       </td><td>0       </td><td>0       </td><td>2.000000</td></tr>\n",
       "\t<tr><td>8       </td><td>21914   </td><td>1       </td><td>151     </td><td>67      </td><td>120     </td><td> 80     </td><td>2       </td><td>2       </td><td>0       </td><td>0       </td><td>0       </td><td>0       </td><td>2.079181</td></tr>\n",
       "</tbody>\n",
       "</table>\n"
      ],
      "text/latex": [
       "\\begin{tabular}{r|llllllllllllll}\n",
       " id & age & gender & height & weight & ap\\_hi & ap\\_lo & cholesterol & gluc & smoke & alco & active & cardio & log\\_ap\\_hi\\\\\n",
       "\\hline\n",
       "\t 0        & 18393    & 2        & 168      & 62       & 110      &  80      & 1        & 1        & 0        & 0        & 1        & 0        & 2.041393\\\\\n",
       "\t 1        & 20228    & 1        & 156      & 85       & 140      &  90      & 3        & 1        & 0        & 0        & 1        & 1        & 2.146128\\\\\n",
       "\t 2        & 18857    & 1        & 165      & 64       & 130      &  70      & 3        & 1        & 0        & 0        & 0        & 1        & 2.113943\\\\\n",
       "\t 3        & 17623    & 2        & 169      & 82       & 150      & 100      & 1        & 1        & 0        & 0        & 1        & 1        & 2.176091\\\\\n",
       "\t 4        & 17474    & 1        & 156      & 56       & 100      &  60      & 1        & 1        & 0        & 0        & 0        & 0        & 2.000000\\\\\n",
       "\t 8        & 21914    & 1        & 151      & 67       & 120      &  80      & 2        & 2        & 0        & 0        & 0        & 0        & 2.079181\\\\\n",
       "\\end{tabular}\n"
      ],
      "text/markdown": [
       "\n",
       "id | age | gender | height | weight | ap_hi | ap_lo | cholesterol | gluc | smoke | alco | active | cardio | log_ap_hi | \n",
       "|---|---|---|---|---|---|\n",
       "| 0        | 18393    | 2        | 168      | 62       | 110      |  80      | 1        | 1        | 0        | 0        | 1        | 0        | 2.041393 | \n",
       "| 1        | 20228    | 1        | 156      | 85       | 140      |  90      | 3        | 1        | 0        | 0        | 1        | 1        | 2.146128 | \n",
       "| 2        | 18857    | 1        | 165      | 64       | 130      |  70      | 3        | 1        | 0        | 0        | 0        | 1        | 2.113943 | \n",
       "| 3        | 17623    | 2        | 169      | 82       | 150      | 100      | 1        | 1        | 0        | 0        | 1        | 1        | 2.176091 | \n",
       "| 4        | 17474    | 1        | 156      | 56       | 100      |  60      | 1        | 1        | 0        | 0        | 0        | 0        | 2.000000 | \n",
       "| 8        | 21914    | 1        | 151      | 67       | 120      |  80      | 2        | 2        | 0        | 0        | 0        | 0        | 2.079181 | \n",
       "\n",
       "\n"
      ],
      "text/plain": [
       "  id age   gender height weight ap_hi ap_lo cholesterol gluc smoke alco active\n",
       "1 0  18393 2      168    62     110    80   1           1    0     0    1     \n",
       "2 1  20228 1      156    85     140    90   3           1    0     0    1     \n",
       "3 2  18857 1      165    64     130    70   3           1    0     0    0     \n",
       "4 3  17623 2      169    82     150   100   1           1    0     0    1     \n",
       "5 4  17474 1      156    56     100    60   1           1    0     0    0     \n",
       "6 8  21914 1      151    67     120    80   2           2    0     0    0     \n",
       "  cardio log_ap_hi\n",
       "1 0      2.041393 \n",
       "2 1      2.146128 \n",
       "3 1      2.113943 \n",
       "4 1      2.176091 \n",
       "5 0      2.000000 \n",
       "6 0      2.079181 "
      ]
     },
     "metadata": {},
     "output_type": "display_data"
    }
   ],
   "source": [
    "head(df)"
   ]
  },
  {
   "cell_type": "markdown",
   "metadata": {},
   "source": [
    "## 1. Визуализируем корреляционную матрицу##"
   ]
  },
  {
   "cell_type": "code",
   "execution_count": 19,
   "metadata": {
    "scrolled": true
   },
   "outputs": [
    {
     "data": {
      "text/html": [
       "<table>\n",
       "<thead><tr><th></th><th scope=col>id</th><th scope=col>age</th><th scope=col>gender</th><th scope=col>height</th><th scope=col>weight</th><th scope=col>ap_hi</th><th scope=col>ap_lo</th><th scope=col>cholesterol</th><th scope=col>gluc</th><th scope=col>smoke</th><th scope=col>alco</th><th scope=col>active</th><th scope=col>cardio</th></tr></thead>\n",
       "<tbody>\n",
       "\t<tr><th scope=row>id</th><td> 1.000000000 </td><td> 0.003456526 </td><td> 0.003502185 </td><td>-0.003037818 </td><td>-0.001829993 </td><td> 3.355599e-03</td><td>-0.002529280 </td><td> 0.006106200 </td><td> 0.002466780 </td><td>-0.0036991623</td><td> 0.001209946 </td><td> 3.755116e-03</td><td> 0.003799389 </td></tr>\n",
       "\t<tr><th scope=row>age</th><td> 0.003456526 </td><td> 1.000000000 </td><td>-0.022810652 </td><td>-0.081515349 </td><td> 0.053684043 </td><td> 2.076432e-02</td><td> 0.017647434 </td><td> 0.154423742 </td><td> 0.098702772 </td><td>-0.0476328098</td><td>-0.029722867 </td><td>-9.927354e-03</td><td> 0.238159227 </td></tr>\n",
       "\t<tr><th scope=row>gender</th><td> 0.003502185 </td><td>-0.022810652 </td><td> 1.000000000 </td><td> 0.499033428 </td><td> 0.155405640 </td><td> 6.005309e-03</td><td> 0.015253971 </td><td>-0.035821413 </td><td>-0.020491035 </td><td> 0.3381351364</td><td> 0.170966429 </td><td> 5.865669e-03</td><td> 0.008109492 </td></tr>\n",
       "\t<tr><th scope=row>height</th><td>-0.003037818 </td><td>-0.081515349 </td><td> 0.499033428 </td><td> 1.000000000 </td><td> 0.290967835 </td><td> 5.487764e-03</td><td> 0.006150467 </td><td>-0.050225952 </td><td>-0.018594670 </td><td> 0.1879893994</td><td> 0.094418693 </td><td>-6.569547e-03</td><td>-0.010821058 </td></tr>\n",
       "\t<tr><th scope=row>weight</th><td>-0.001829993 </td><td> 0.053684043 </td><td> 0.155405640 </td><td> 0.290967835 </td><td> 1.000000000 </td><td> 3.070221e-02</td><td> 0.043709773 </td><td> 0.141767906 </td><td> 0.106857265 </td><td> 0.0677804655</td><td> 0.067112841 </td><td>-1.686675e-02</td><td> 0.181659562 </td></tr>\n",
       "\t<tr><th scope=row>ap_hi</th><td> 0.003355599 </td><td> 0.020764319 </td><td> 0.006005309 </td><td> 0.005487764 </td><td> 0.030702209 </td><td> 1.000000e+00</td><td> 0.016085513 </td><td> 0.023777922 </td><td> 0.011840678 </td><td>-0.0009220248</td><td> 0.001408333 </td><td>-3.300248e-05</td><td> 0.054475054 </td></tr>\n",
       "\t<tr><th scope=row>ap_lo</th><td>-0.002529280 </td><td> 0.017647434 </td><td> 0.015253971 </td><td> 0.006150467 </td><td> 0.043709773 </td><td> 1.608551e-02</td><td> 1.000000000 </td><td> 0.024019290 </td><td> 0.010805666 </td><td> 0.0051861304</td><td> 0.010601240 </td><td> 4.780258e-03</td><td> 0.065718696 </td></tr>\n",
       "\t<tr><th scope=row>cholesterol</th><td> 0.006106200 </td><td> 0.154423742 </td><td>-0.035821413 </td><td>-0.050225952 </td><td> 0.141767906 </td><td> 2.377792e-02</td><td> 0.024019290 </td><td> 1.000000000 </td><td> 0.451577524 </td><td> 0.0103544151</td><td> 0.035760386 </td><td> 9.911297e-03</td><td> 0.221147274 </td></tr>\n",
       "\t<tr><th scope=row>gluc</th><td> 0.002466780 </td><td> 0.098702772 </td><td>-0.020491035 </td><td>-0.018594670 </td><td> 0.106857265 </td><td> 1.184068e-02</td><td> 0.010805666 </td><td> 0.451577524 </td><td> 1.000000000 </td><td>-0.0047564831</td><td> 0.011245771 </td><td>-6.769518e-03</td><td> 0.089306887 </td></tr>\n",
       "\t<tr><th scope=row>smoke</th><td>-0.003699162 </td><td>-0.047632810 </td><td> 0.338135136 </td><td> 0.187989399 </td><td> 0.067780465 </td><td>-9.220248e-04</td><td> 0.005186130 </td><td> 0.010354415 </td><td>-0.004756483 </td><td> 1.0000000000</td><td> 0.340093768 </td><td> 2.585797e-02</td><td>-0.015485936 </td></tr>\n",
       "\t<tr><th scope=row>alco</th><td> 0.001209946 </td><td>-0.029722867 </td><td> 0.170966429 </td><td> 0.094418693 </td><td> 0.067112841 </td><td> 1.408333e-03</td><td> 0.010601240 </td><td> 0.035760386 </td><td> 0.011245771 </td><td> 0.3400937679</td><td> 1.000000000 </td><td> 2.547583e-02</td><td>-0.007330232 </td></tr>\n",
       "\t<tr><th scope=row>active</th><td> 0.003755116 </td><td>-0.009927354 </td><td> 0.005865669 </td><td>-0.006569547 </td><td>-0.016866746 </td><td>-3.300248e-05</td><td> 0.004780258 </td><td> 0.009911297 </td><td>-0.006769518 </td><td> 0.0258579688</td><td> 0.025475829 </td><td> 1.000000e+00</td><td>-0.035653248 </td></tr>\n",
       "\t<tr><th scope=row>cardio</th><td> 0.003799389 </td><td> 0.238159227 </td><td> 0.008109492 </td><td>-0.010821058 </td><td> 0.181659562 </td><td> 5.447505e-02</td><td> 0.065718696 </td><td> 0.221147274 </td><td> 0.089306887 </td><td>-0.0154859357</td><td>-0.007330232 </td><td>-3.565325e-02</td><td> 1.000000000 </td></tr>\n",
       "</tbody>\n",
       "</table>\n"
      ],
      "text/latex": [
       "\\begin{tabular}{r|lllllllllllll}\n",
       "  & id & age & gender & height & weight & ap\\_hi & ap\\_lo & cholesterol & gluc & smoke & alco & active & cardio\\\\\n",
       "\\hline\n",
       "\tid &  1.000000000  &  0.003456526  &  0.003502185  & -0.003037818  & -0.001829993  &  3.355599e-03 & -0.002529280  &  0.006106200  &  0.002466780  & -0.0036991623 &  0.001209946  &  3.755116e-03 &  0.003799389 \\\\\n",
       "\tage &  0.003456526  &  1.000000000  & -0.022810652  & -0.081515349  &  0.053684043  &  2.076432e-02 &  0.017647434  &  0.154423742  &  0.098702772  & -0.0476328098 & -0.029722867  & -9.927354e-03 &  0.238159227 \\\\\n",
       "\tgender &  0.003502185  & -0.022810652  &  1.000000000  &  0.499033428  &  0.155405640  &  6.005309e-03 &  0.015253971  & -0.035821413  & -0.020491035  &  0.3381351364 &  0.170966429  &  5.865669e-03 &  0.008109492 \\\\\n",
       "\theight & -0.003037818  & -0.081515349  &  0.499033428  &  1.000000000  &  0.290967835  &  5.487764e-03 &  0.006150467  & -0.050225952  & -0.018594670  &  0.1879893994 &  0.094418693  & -6.569547e-03 & -0.010821058 \\\\\n",
       "\tweight & -0.001829993  &  0.053684043  &  0.155405640  &  0.290967835  &  1.000000000  &  3.070221e-02 &  0.043709773  &  0.141767906  &  0.106857265  &  0.0677804655 &  0.067112841  & -1.686675e-02 &  0.181659562 \\\\\n",
       "\tap\\_hi &  0.003355599  &  0.020764319  &  0.006005309  &  0.005487764  &  0.030702209  &  1.000000e+00 &  0.016085513  &  0.023777922  &  0.011840678  & -0.0009220248 &  0.001408333  & -3.300248e-05 &  0.054475054 \\\\\n",
       "\tap\\_lo & -0.002529280  &  0.017647434  &  0.015253971  &  0.006150467  &  0.043709773  &  1.608551e-02 &  1.000000000  &  0.024019290  &  0.010805666  &  0.0051861304 &  0.010601240  &  4.780258e-03 &  0.065718696 \\\\\n",
       "\tcholesterol &  0.006106200  &  0.154423742  & -0.035821413  & -0.050225952  &  0.141767906  &  2.377792e-02 &  0.024019290  &  1.000000000  &  0.451577524  &  0.0103544151 &  0.035760386  &  9.911297e-03 &  0.221147274 \\\\\n",
       "\tgluc &  0.002466780  &  0.098702772  & -0.020491035  & -0.018594670  &  0.106857265  &  1.184068e-02 &  0.010805666  &  0.451577524  &  1.000000000  & -0.0047564831 &  0.011245771  & -6.769518e-03 &  0.089306887 \\\\\n",
       "\tsmoke & -0.003699162  & -0.047632810  &  0.338135136  &  0.187989399  &  0.067780465  & -9.220248e-04 &  0.005186130  &  0.010354415  & -0.004756483  &  1.0000000000 &  0.340093768  &  2.585797e-02 & -0.015485936 \\\\\n",
       "\talco &  0.001209946  & -0.029722867  &  0.170966429  &  0.094418693  &  0.067112841  &  1.408333e-03 &  0.010601240  &  0.035760386  &  0.011245771  &  0.3400937679 &  1.000000000  &  2.547583e-02 & -0.007330232 \\\\\n",
       "\tactive &  0.003755116  & -0.009927354  &  0.005865669  & -0.006569547  & -0.016866746  & -3.300248e-05 &  0.004780258  &  0.009911297  & -0.006769518  &  0.0258579688 &  0.025475829  &  1.000000e+00 & -0.035653248 \\\\\n",
       "\tcardio &  0.003799389  &  0.238159227  &  0.008109492  & -0.010821058  &  0.181659562  &  5.447505e-02 &  0.065718696  &  0.221147274  &  0.089306887  & -0.0154859357 & -0.007330232  & -3.565325e-02 &  1.000000000 \\\\\n",
       "\\end{tabular}\n"
      ],
      "text/markdown": [
       "\n",
       "| <!--/--> | id | age | gender | height | weight | ap_hi | ap_lo | cholesterol | gluc | smoke | alco | active | cardio | \n",
       "|---|---|---|---|---|---|---|---|---|---|---|---|---|\n",
       "| id |  1.000000000  |  0.003456526  |  0.003502185  | -0.003037818  | -0.001829993  |  3.355599e-03 | -0.002529280  |  0.006106200  |  0.002466780  | -0.0036991623 |  0.001209946  |  3.755116e-03 |  0.003799389  | \n",
       "| age |  0.003456526  |  1.000000000  | -0.022810652  | -0.081515349  |  0.053684043  |  2.076432e-02 |  0.017647434  |  0.154423742  |  0.098702772  | -0.0476328098 | -0.029722867  | -9.927354e-03 |  0.238159227  | \n",
       "| gender |  0.003502185  | -0.022810652  |  1.000000000  |  0.499033428  |  0.155405640  |  6.005309e-03 |  0.015253971  | -0.035821413  | -0.020491035  |  0.3381351364 |  0.170966429  |  5.865669e-03 |  0.008109492  | \n",
       "| height | -0.003037818  | -0.081515349  |  0.499033428  |  1.000000000  |  0.290967835  |  5.487764e-03 |  0.006150467  | -0.050225952  | -0.018594670  |  0.1879893994 |  0.094418693  | -6.569547e-03 | -0.010821058  | \n",
       "| weight | -0.001829993  |  0.053684043  |  0.155405640  |  0.290967835  |  1.000000000  |  3.070221e-02 |  0.043709773  |  0.141767906  |  0.106857265  |  0.0677804655 |  0.067112841  | -1.686675e-02 |  0.181659562  | \n",
       "| ap_hi |  0.003355599  |  0.020764319  |  0.006005309  |  0.005487764  |  0.030702209  |  1.000000e+00 |  0.016085513  |  0.023777922  |  0.011840678  | -0.0009220248 |  0.001408333  | -3.300248e-05 |  0.054475054  | \n",
       "| ap_lo | -0.002529280  |  0.017647434  |  0.015253971  |  0.006150467  |  0.043709773  |  1.608551e-02 |  1.000000000  |  0.024019290  |  0.010805666  |  0.0051861304 |  0.010601240  |  4.780258e-03 |  0.065718696  | \n",
       "| cholesterol |  0.006106200  |  0.154423742  | -0.035821413  | -0.050225952  |  0.141767906  |  2.377792e-02 |  0.024019290  |  1.000000000  |  0.451577524  |  0.0103544151 |  0.035760386  |  9.911297e-03 |  0.221147274  | \n",
       "| gluc |  0.002466780  |  0.098702772  | -0.020491035  | -0.018594670  |  0.106857265  |  1.184068e-02 |  0.010805666  |  0.451577524  |  1.000000000  | -0.0047564831 |  0.011245771  | -6.769518e-03 |  0.089306887  | \n",
       "| smoke | -0.003699162  | -0.047632810  |  0.338135136  |  0.187989399  |  0.067780465  | -9.220248e-04 |  0.005186130  |  0.010354415  | -0.004756483  |  1.0000000000 |  0.340093768  |  2.585797e-02 | -0.015485936  | \n",
       "| alco |  0.001209946  | -0.029722867  |  0.170966429  |  0.094418693  |  0.067112841  |  1.408333e-03 |  0.010601240  |  0.035760386  |  0.011245771  |  0.3400937679 |  1.000000000  |  2.547583e-02 | -0.007330232  | \n",
       "| active |  0.003755116  | -0.009927354  |  0.005865669  | -0.006569547  | -0.016866746  | -3.300248e-05 |  0.004780258  |  0.009911297  | -0.006769518  |  0.0258579688 |  0.025475829  |  1.000000e+00 | -0.035653248  | \n",
       "| cardio |  0.003799389  |  0.238159227  |  0.008109492  | -0.010821058  |  0.181659562  |  5.447505e-02 |  0.065718696  |  0.221147274  |  0.089306887  | -0.0154859357 | -0.007330232  | -3.565325e-02 |  1.000000000  | \n",
       "\n",
       "\n"
      ],
      "text/plain": [
       "            id           age          gender       height       weight      \n",
       "id           1.000000000  0.003456526  0.003502185 -0.003037818 -0.001829993\n",
       "age          0.003456526  1.000000000 -0.022810652 -0.081515349  0.053684043\n",
       "gender       0.003502185 -0.022810652  1.000000000  0.499033428  0.155405640\n",
       "height      -0.003037818 -0.081515349  0.499033428  1.000000000  0.290967835\n",
       "weight      -0.001829993  0.053684043  0.155405640  0.290967835  1.000000000\n",
       "ap_hi        0.003355599  0.020764319  0.006005309  0.005487764  0.030702209\n",
       "ap_lo       -0.002529280  0.017647434  0.015253971  0.006150467  0.043709773\n",
       "cholesterol  0.006106200  0.154423742 -0.035821413 -0.050225952  0.141767906\n",
       "gluc         0.002466780  0.098702772 -0.020491035 -0.018594670  0.106857265\n",
       "smoke       -0.003699162 -0.047632810  0.338135136  0.187989399  0.067780465\n",
       "alco         0.001209946 -0.029722867  0.170966429  0.094418693  0.067112841\n",
       "active       0.003755116 -0.009927354  0.005865669 -0.006569547 -0.016866746\n",
       "cardio       0.003799389  0.238159227  0.008109492 -0.010821058  0.181659562\n",
       "            ap_hi         ap_lo        cholesterol  gluc         smoke        \n",
       "id           3.355599e-03 -0.002529280  0.006106200  0.002466780 -0.0036991623\n",
       "age          2.076432e-02  0.017647434  0.154423742  0.098702772 -0.0476328098\n",
       "gender       6.005309e-03  0.015253971 -0.035821413 -0.020491035  0.3381351364\n",
       "height       5.487764e-03  0.006150467 -0.050225952 -0.018594670  0.1879893994\n",
       "weight       3.070221e-02  0.043709773  0.141767906  0.106857265  0.0677804655\n",
       "ap_hi        1.000000e+00  0.016085513  0.023777922  0.011840678 -0.0009220248\n",
       "ap_lo        1.608551e-02  1.000000000  0.024019290  0.010805666  0.0051861304\n",
       "cholesterol  2.377792e-02  0.024019290  1.000000000  0.451577524  0.0103544151\n",
       "gluc         1.184068e-02  0.010805666  0.451577524  1.000000000 -0.0047564831\n",
       "smoke       -9.220248e-04  0.005186130  0.010354415 -0.004756483  1.0000000000\n",
       "alco         1.408333e-03  0.010601240  0.035760386  0.011245771  0.3400937679\n",
       "active      -3.300248e-05  0.004780258  0.009911297 -0.006769518  0.0258579688\n",
       "cardio       5.447505e-02  0.065718696  0.221147274  0.089306887 -0.0154859357\n",
       "            alco         active        cardio      \n",
       "id           0.001209946  3.755116e-03  0.003799389\n",
       "age         -0.029722867 -9.927354e-03  0.238159227\n",
       "gender       0.170966429  5.865669e-03  0.008109492\n",
       "height       0.094418693 -6.569547e-03 -0.010821058\n",
       "weight       0.067112841 -1.686675e-02  0.181659562\n",
       "ap_hi        0.001408333 -3.300248e-05  0.054475054\n",
       "ap_lo        0.010601240  4.780258e-03  0.065718696\n",
       "cholesterol  0.035760386  9.911297e-03  0.221147274\n",
       "gluc         0.011245771 -6.769518e-03  0.089306887\n",
       "smoke        0.340093768  2.585797e-02 -0.015485936\n",
       "alco         1.000000000  2.547583e-02 -0.007330232\n",
       "active       0.025475829  1.000000e+00 -0.035653248\n",
       "cardio      -0.007330232 -3.565325e-02  1.000000000"
      ]
     },
     "metadata": {},
     "output_type": "display_data"
    }
   ],
   "source": [
    "cor(df)"
   ]
  },
  {
   "cell_type": "code",
   "execution_count": 32,
   "metadata": {},
   "outputs": [
    {
     "data": {
      "image/png": "[encoded data removed]",
      "text/plain": [
       "plot without title"
      ]
     },
     "metadata": {},
     "output_type": "display_data"
    }
   ],
   "source": [
    "heatmap(cor(df))"
   ]
  },
  {
   "cell_type": "markdown",
   "metadata": {},
   "source": [
    "###  1. Какие два признака больше всего коррелируют (по Пирсону) с признаком `height` ?\n",
    "\n",
    "- Gluc, Cholesterol\n",
    "- Weight, Alco\n",
    "- Smoke, Alco\n",
    "- Weight, Gender"
   ]
  },
  {
   "cell_type": "markdown",
   "metadata": {},
   "source": [
    "***Ответ: больше всего коррелируют с \"height\" признаки \"weight\" и \"gender\"***"
   ]
  },
  {
   "cell_type": "markdown",
   "metadata": {},
   "source": [
    "## 2. Распределение роста для мужчин и женщин"
   ]
  },
  {
   "cell_type": "markdown",
   "metadata": {},
   "source": [
    "Постройте violinplot для наиболее коррелирующего (по Пирсону) с гендером признака. Используйте параметры: \n",
    "- hue - для разбивки по полу\n",
    "- scale - для оценки количества каждого из полов "
   ]
  },
  {
   "cell_type": "code",
   "execution_count": 23,
   "metadata": {},
   "outputs": [
    {
     "data": {},
     "metadata": {},
     "output_type": "display_data"
    },
    {
     "data": {
      "image/png": "[encoded data removed]",
      "text/plain": [
       "plot without title"
      ]
     },
     "metadata": {},
     "output_type": "display_data"
    }
   ],
   "source": [
    "ggplot(df, aes(x=df$gender, y=df$weight)) + \n",
    "  geom_violin(aes(fill=factor(df$gender)))\n"
   ]
  },
  {
   "cell_type": "markdown",
   "metadata": {},
   "source": [
    "Постройте на одном графике два отдельных одномерных (univariate) kdeplot для того же признака, для каждого из гендеров. На нем разница будет более наглядной, но нельзя будет оценить количество элементов каждого гендера."
   ]
  },
  {
   "cell_type": "code",
   "execution_count": 27,
   "metadata": {},
   "outputs": [
    {
     "data": {},
     "metadata": {},
     "output_type": "display_data"
    },
    {
     "data": {
      "image/png": "[encoded data removed]",
      "text/plain": [
       "plot without title"
      ]
     },
     "metadata": {},
     "output_type": "display_data"
    }
   ],
   "source": [
    "ggplot(df, aes(df$height,fill=factor(df$gender))) +\n",
    "geom_density()"
   ]
  },
  {
   "cell_type": "markdown",
   "metadata": {},
   "source": [
    "## 3. Ранговая корреляция"
   ]
  },
  {
   "cell_type": "markdown",
   "metadata": {},
   "source": [
    "##### Постройте корреляционную матрицу, используя коэффициент Спирмена"
   ]
  },
  {
   "cell_type": "code",
   "execution_count": 31,
   "metadata": {},
   "outputs": [
    {
     "data": {
      "text/html": [
       "<table>\n",
       "<thead><tr><th></th><th scope=col>id</th><th scope=col>age</th><th scope=col>gender</th><th scope=col>height</th><th scope=col>weight</th><th scope=col>ap_hi</th><th scope=col>ap_lo</th><th scope=col>cholesterol</th><th scope=col>gluc</th><th scope=col>smoke</th><th scope=col>alco</th><th scope=col>active</th><th scope=col>cardio</th></tr></thead>\n",
       "<tbody>\n",
       "\t<tr><th scope=row>id</th><td> 1.0000000000</td><td> 0.002681719 </td><td> 0.003506216 </td><td>-0.001886498 </td><td>-0.001291618 </td><td> 0.003257552 </td><td>-0.0002381779</td><td> 0.005705914 </td><td> 0.0027894509</td><td>-0.0036974923</td><td> 0.001214166 </td><td> 0.003765515 </td><td> 0.003800488 </td></tr>\n",
       "\t<tr><th scope=row>age</th><td> 0.0026817187</td><td> 1.000000000 </td><td>-0.020176419 </td><td>-0.082292260 </td><td> 0.061558938 </td><td> 0.219086526 </td><td> 0.1566995261</td><td> 0.140113032 </td><td> 0.0917913699</td><td>-0.0474713951</td><td>-0.030078361 </td><td>-0.010422035 </td><td> 0.234429027 </td></tr>\n",
       "\t<tr><th scope=row>gender</th><td> 0.0035062158</td><td>-0.020176419 </td><td> 1.000000000 </td><td> 0.533804513 </td><td> 0.172479948 </td><td> 0.063173535 </td><td> 0.0663740711</td><td>-0.035729814 </td><td>-0.0188664231</td><td> 0.3381351364</td><td> 0.170966429 </td><td> 0.005865669 </td><td> 0.008109492 </td></tr>\n",
       "\t<tr><th scope=row>height</th><td>-0.0018864981</td><td>-0.082292260 </td><td> 0.533804513 </td><td> 1.000000000 </td><td> 0.313569270 </td><td> 0.019381266 </td><td> 0.0305338058</td><td>-0.058940408 </td><td>-0.0243690581</td><td> 0.1976324089</td><td> 0.096669796 </td><td>-0.007366917 </td><td>-0.012383341 </td></tr>\n",
       "\t<tr><th scope=row>weight</th><td>-0.0012916183</td><td> 0.061558938 </td><td> 0.172479948 </td><td> 0.313569270 </td><td> 1.000000000 </td><td> 0.277748856 </td><td> 0.2544197871</td><td> 0.137907934 </td><td> 0.1099010955</td><td> 0.0716756168</td><td> 0.068087795 </td><td>-0.014894465 </td><td> 0.182701088 </td></tr>\n",
       "\t<tr><th scope=row>ap_hi</th><td> 0.0032575520</td><td> 0.219086526 </td><td> 0.063173535 </td><td> 0.019381266 </td><td> 0.277748856 </td><td> 1.000000000 </td><td> 0.7354361051</td><td> 0.208721577 </td><td> 0.1053342311</td><td> 0.0289286067</td><td> 0.033242844 </td><td>-0.001267830 </td><td> 0.451884540 </td></tr>\n",
       "\t<tr><th scope=row>ap_lo</th><td>-0.0002381779</td><td> 0.156699526 </td><td> 0.066374071 </td><td> 0.030533806 </td><td> 0.254419787 </td><td> 0.735436105 </td><td> 1.0000000000</td><td> 0.167400998 </td><td> 0.0824736244</td><td> 0.0261716663</td><td> 0.038862049 </td><td> 0.003401494 </td><td> 0.362572443 </td></tr>\n",
       "\t<tr><th scope=row>cholesterol</th><td> 0.0057059139</td><td> 0.140113032 </td><td>-0.035729814 </td><td>-0.058940408 </td><td> 0.137907934 </td><td> 0.208721577 </td><td> 0.1674009979</td><td> 1.000000000 </td><td> 0.4078033426</td><td> 0.0152196169</td><td> 0.041285433 </td><td> 0.007573173 </td><td> 0.215117199 </td></tr>\n",
       "\t<tr><th scope=row>gluc</th><td> 0.0027894509</td><td> 0.091791370 </td><td>-0.018866423 </td><td>-0.024369058 </td><td> 0.109901095 </td><td> 0.105334231 </td><td> 0.0824736244</td><td> 0.407803343 </td><td> 1.0000000000</td><td> 0.0004679663</td><td> 0.018584375 </td><td>-0.008609967 </td><td> 0.091487571 </td></tr>\n",
       "\t<tr><th scope=row>smoke</th><td>-0.0036974923</td><td>-0.047471395 </td><td> 0.338135136 </td><td> 0.197632409 </td><td> 0.071675617 </td><td> 0.028928607 </td><td> 0.0261716663</td><td> 0.015219617 </td><td> 0.0004679663</td><td> 1.0000000000</td><td> 0.340093768 </td><td> 0.025857969 </td><td>-0.015485936 </td></tr>\n",
       "\t<tr><th scope=row>alco</th><td> 0.0012141661</td><td>-0.030078361 </td><td> 0.170966429 </td><td> 0.096669796 </td><td> 0.068087795 </td><td> 0.033242844 </td><td> 0.0388620487</td><td> 0.041285433 </td><td> 0.0185843749</td><td> 0.3400937679</td><td> 1.000000000 </td><td> 0.025475829 </td><td>-0.007330232 </td></tr>\n",
       "\t<tr><th scope=row>active</th><td> 0.0037655154</td><td>-0.010422035 </td><td> 0.005865669 </td><td>-0.007366917 </td><td>-0.014894465 </td><td>-0.001267830 </td><td> 0.0034014939</td><td> 0.007573173 </td><td>-0.0086099675</td><td> 0.0258579688</td><td> 0.025475829 </td><td> 1.000000000 </td><td>-0.035653248 </td></tr>\n",
       "\t<tr><th scope=row>cardio</th><td> 0.0038004885</td><td> 0.234429027 </td><td> 0.008109492 </td><td>-0.012383341 </td><td> 0.182701088 </td><td> 0.451884540 </td><td> 0.3625724432</td><td> 0.215117199 </td><td> 0.0914875712</td><td>-0.0154859357</td><td>-0.007330232 </td><td>-0.035653248 </td><td> 1.000000000 </td></tr>\n",
       "</tbody>\n",
       "</table>\n"
      ],
      "text/latex": [
       "\\begin{tabular}{r|lllllllllllll}\n",
       "  & id & age & gender & height & weight & ap\\_hi & ap\\_lo & cholesterol & gluc & smoke & alco & active & cardio\\\\\n",
       "\\hline\n",
       "\tid &  1.0000000000 &  0.002681719  &  0.003506216  & -0.001886498  & -0.001291618  &  0.003257552  & -0.0002381779 &  0.005705914  &  0.0027894509 & -0.0036974923 &  0.001214166  &  0.003765515  &  0.003800488 \\\\\n",
       "\tage &  0.0026817187 &  1.000000000  & -0.020176419  & -0.082292260  &  0.061558938  &  0.219086526  &  0.1566995261 &  0.140113032  &  0.0917913699 & -0.0474713951 & -0.030078361  & -0.010422035  &  0.234429027 \\\\\n",
       "\tgender &  0.0035062158 & -0.020176419  &  1.000000000  &  0.533804513  &  0.172479948  &  0.063173535  &  0.0663740711 & -0.035729814  & -0.0188664231 &  0.3381351364 &  0.170966429  &  0.005865669  &  0.008109492 \\\\\n",
       "\theight & -0.0018864981 & -0.082292260  &  0.533804513  &  1.000000000  &  0.313569270  &  0.019381266  &  0.0305338058 & -0.058940408  & -0.0243690581 &  0.1976324089 &  0.096669796  & -0.007366917  & -0.012383341 \\\\\n",
       "\tweight & -0.0012916183 &  0.061558938  &  0.172479948  &  0.313569270  &  1.000000000  &  0.277748856  &  0.2544197871 &  0.137907934  &  0.1099010955 &  0.0716756168 &  0.068087795  & -0.014894465  &  0.182701088 \\\\\n",
       "\tap\\_hi &  0.0032575520 &  0.219086526  &  0.063173535  &  0.019381266  &  0.277748856  &  1.000000000  &  0.7354361051 &  0.208721577  &  0.1053342311 &  0.0289286067 &  0.033242844  & -0.001267830  &  0.451884540 \\\\\n",
       "\tap\\_lo & -0.0002381779 &  0.156699526  &  0.066374071  &  0.030533806  &  0.254419787  &  0.735436105  &  1.0000000000 &  0.167400998  &  0.0824736244 &  0.0261716663 &  0.038862049  &  0.003401494  &  0.362572443 \\\\\n",
       "\tcholesterol &  0.0057059139 &  0.140113032  & -0.035729814  & -0.058940408  &  0.137907934  &  0.208721577  &  0.1674009979 &  1.000000000  &  0.4078033426 &  0.0152196169 &  0.041285433  &  0.007573173  &  0.215117199 \\\\\n",
       "\tgluc &  0.0027894509 &  0.091791370  & -0.018866423  & -0.024369058  &  0.109901095  &  0.105334231  &  0.0824736244 &  0.407803343  &  1.0000000000 &  0.0004679663 &  0.018584375  & -0.008609967  &  0.091487571 \\\\\n",
       "\tsmoke & -0.0036974923 & -0.047471395  &  0.338135136  &  0.197632409  &  0.071675617  &  0.028928607  &  0.0261716663 &  0.015219617  &  0.0004679663 &  1.0000000000 &  0.340093768  &  0.025857969  & -0.015485936 \\\\\n",
       "\talco &  0.0012141661 & -0.030078361  &  0.170966429  &  0.096669796  &  0.068087795  &  0.033242844  &  0.0388620487 &  0.041285433  &  0.0185843749 &  0.3400937679 &  1.000000000  &  0.025475829  & -0.007330232 \\\\\n",
       "\tactive &  0.0037655154 & -0.010422035  &  0.005865669  & -0.007366917  & -0.014894465  & -0.001267830  &  0.0034014939 &  0.007573173  & -0.0086099675 &  0.0258579688 &  0.025475829  &  1.000000000  & -0.035653248 \\\\\n",
       "\tcardio &  0.0038004885 &  0.234429027  &  0.008109492  & -0.012383341  &  0.182701088  &  0.451884540  &  0.3625724432 &  0.215117199  &  0.0914875712 & -0.0154859357 & -0.007330232  & -0.035653248  &  1.000000000 \\\\\n",
       "\\end{tabular}\n"
      ],
      "text/markdown": [
       "\n",
       "| <!--/--> | id | age | gender | height | weight | ap_hi | ap_lo | cholesterol | gluc | smoke | alco | active | cardio | \n",
       "|---|---|---|---|---|---|---|---|---|---|---|---|---|\n",
       "| id |  1.0000000000 |  0.002681719  |  0.003506216  | -0.001886498  | -0.001291618  |  0.003257552  | -0.0002381779 |  0.005705914  |  0.0027894509 | -0.0036974923 |  0.001214166  |  0.003765515  |  0.003800488  | \n",
       "| age |  0.0026817187 |  1.000000000  | -0.020176419  | -0.082292260  |  0.061558938  |  0.219086526  |  0.1566995261 |  0.140113032  |  0.0917913699 | -0.0474713951 | -0.030078361  | -0.010422035  |  0.234429027  | \n",
       "| gender |  0.0035062158 | -0.020176419  |  1.000000000  |  0.533804513  |  0.172479948  |  0.063173535  |  0.0663740711 | -0.035729814  | -0.0188664231 |  0.3381351364 |  0.170966429  |  0.005865669  |  0.008109492  | \n",
       "| height | -0.0018864981 | -0.082292260  |  0.533804513  |  1.000000000  |  0.313569270  |  0.019381266  |  0.0305338058 | -0.058940408  | -0.0243690581 |  0.1976324089 |  0.096669796  | -0.007366917  | -0.012383341  | \n",
       "| weight | -0.0012916183 |  0.061558938  |  0.172479948  |  0.313569270  |  1.000000000  |  0.277748856  |  0.2544197871 |  0.137907934  |  0.1099010955 |  0.0716756168 |  0.068087795  | -0.014894465  |  0.182701088  | \n",
       "| ap_hi |  0.0032575520 |  0.219086526  |  0.063173535  |  0.019381266  |  0.277748856  |  1.000000000  |  0.7354361051 |  0.208721577  |  0.1053342311 |  0.0289286067 |  0.033242844  | -0.001267830  |  0.451884540  | \n",
       "| ap_lo | -0.0002381779 |  0.156699526  |  0.066374071  |  0.030533806  |  0.254419787  |  0.735436105  |  1.0000000000 |  0.167400998  |  0.0824736244 |  0.0261716663 |  0.038862049  |  0.003401494  |  0.362572443  | \n",
       "| cholesterol |  0.0057059139 |  0.140113032  | -0.035729814  | -0.058940408  |  0.137907934  |  0.208721577  |  0.1674009979 |  1.000000000  |  0.4078033426 |  0.0152196169 |  0.041285433  |  0.007573173  |  0.215117199  | \n",
       "| gluc |  0.0027894509 |  0.091791370  | -0.018866423  | -0.024369058  |  0.109901095  |  0.105334231  |  0.0824736244 |  0.407803343  |  1.0000000000 |  0.0004679663 |  0.018584375  | -0.008609967  |  0.091487571  | \n",
       "| smoke | -0.0036974923 | -0.047471395  |  0.338135136  |  0.197632409  |  0.071675617  |  0.028928607  |  0.0261716663 |  0.015219617  |  0.0004679663 |  1.0000000000 |  0.340093768  |  0.025857969  | -0.015485936  | \n",
       "| alco |  0.0012141661 | -0.030078361  |  0.170966429  |  0.096669796  |  0.068087795  |  0.033242844  |  0.0388620487 |  0.041285433  |  0.0185843749 |  0.3400937679 |  1.000000000  |  0.025475829  | -0.007330232  | \n",
       "| active |  0.0037655154 | -0.010422035  |  0.005865669  | -0.007366917  | -0.014894465  | -0.001267830  |  0.0034014939 |  0.007573173  | -0.0086099675 |  0.0258579688 |  0.025475829  |  1.000000000  | -0.035653248  | \n",
       "| cardio |  0.0038004885 |  0.234429027  |  0.008109492  | -0.012383341  |  0.182701088  |  0.451884540  |  0.3625724432 |  0.215117199  |  0.0914875712 | -0.0154859357 | -0.007330232  | -0.035653248  |  1.000000000  | \n",
       "\n",
       "\n"
      ],
      "text/plain": [
       "            id            age          gender       height       weight      \n",
       "id           1.0000000000  0.002681719  0.003506216 -0.001886498 -0.001291618\n",
       "age          0.0026817187  1.000000000 -0.020176419 -0.082292260  0.061558938\n",
       "gender       0.0035062158 -0.020176419  1.000000000  0.533804513  0.172479948\n",
       "height      -0.0018864981 -0.082292260  0.533804513  1.000000000  0.313569270\n",
       "weight      -0.0012916183  0.061558938  0.172479948  0.313569270  1.000000000\n",
       "ap_hi        0.0032575520  0.219086526  0.063173535  0.019381266  0.277748856\n",
       "ap_lo       -0.0002381779  0.156699526  0.066374071  0.030533806  0.254419787\n",
       "cholesterol  0.0057059139  0.140113032 -0.035729814 -0.058940408  0.137907934\n",
       "gluc         0.0027894509  0.091791370 -0.018866423 -0.024369058  0.109901095\n",
       "smoke       -0.0036974923 -0.047471395  0.338135136  0.197632409  0.071675617\n",
       "alco         0.0012141661 -0.030078361  0.170966429  0.096669796  0.068087795\n",
       "active       0.0037655154 -0.010422035  0.005865669 -0.007366917 -0.014894465\n",
       "cardio       0.0038004885  0.234429027  0.008109492 -0.012383341  0.182701088\n",
       "            ap_hi        ap_lo         cholesterol  gluc          smoke        \n",
       "id           0.003257552 -0.0002381779  0.005705914  0.0027894509 -0.0036974923\n",
       "age          0.219086526  0.1566995261  0.140113032  0.0917913699 -0.0474713951\n",
       "gender       0.063173535  0.0663740711 -0.035729814 -0.0188664231  0.3381351364\n",
       "height       0.019381266  0.0305338058 -0.058940408 -0.0243690581  0.1976324089\n",
       "weight       0.277748856  0.2544197871  0.137907934  0.1099010955  0.0716756168\n",
       "ap_hi        1.000000000  0.7354361051  0.208721577  0.1053342311  0.0289286067\n",
       "ap_lo        0.735436105  1.0000000000  0.167400998  0.0824736244  0.0261716663\n",
       "cholesterol  0.208721577  0.1674009979  1.000000000  0.4078033426  0.0152196169\n",
       "gluc         0.105334231  0.0824736244  0.407803343  1.0000000000  0.0004679663\n",
       "smoke        0.028928607  0.0261716663  0.015219617  0.0004679663  1.0000000000\n",
       "alco         0.033242844  0.0388620487  0.041285433  0.0185843749  0.3400937679\n",
       "active      -0.001267830  0.0034014939  0.007573173 -0.0086099675  0.0258579688\n",
       "cardio       0.451884540  0.3625724432  0.215117199  0.0914875712 -0.0154859357\n",
       "            alco         active       cardio      \n",
       "id           0.001214166  0.003765515  0.003800488\n",
       "age         -0.030078361 -0.010422035  0.234429027\n",
       "gender       0.170966429  0.005865669  0.008109492\n",
       "height       0.096669796 -0.007366917 -0.012383341\n",
       "weight       0.068087795 -0.014894465  0.182701088\n",
       "ap_hi        0.033242844 -0.001267830  0.451884540\n",
       "ap_lo        0.038862049  0.003401494  0.362572443\n",
       "cholesterol  0.041285433  0.007573173  0.215117199\n",
       "gluc         0.018584375 -0.008609967  0.091487571\n",
       "smoke        0.340093768  0.025857969 -0.015485936\n",
       "alco         1.000000000  0.025475829 -0.007330232\n",
       "active       0.025475829  1.000000000 -0.035653248\n",
       "cardio      -0.007330232 -0.035653248  1.000000000"
      ]
     },
     "metadata": {},
     "output_type": "display_data"
    }
   ],
   "source": [
    "cor(df, method = \"spearman\")"
   ]
  },
  {
   "cell_type": "code",
   "execution_count": 33,
   "metadata": {},
   "outputs": [
    {
     "data": {
      "image/png": "[encoded data removed]",
      "text/plain": [
       "plot without title"
      ]
     },
     "metadata": {},
     "output_type": "display_data"
    }
   ],
   "source": [
    "heatmap(cor(df, method = \"spearman\"))"
   ]
  },
  {
   "cell_type": "markdown",
   "metadata": {},
   "source": [
    "### 3.1 Какие признаки теперь больше всего коррелируют (по Спирмену) друг с другом?\n",
    "\n",
    "- Height, Weight\n",
    "- Age, Weight\n",
    "- Ap_hi, Ap_lo\n",
    "- Cholesterol, Gluc\n",
    "- Cardio, Cholesterol\n",
    "- Smoke, Alco"
   ]
  },
  {
   "cell_type": "markdown",
   "metadata": {},
   "source": [
    " ***Ответ: теперь больше всего коррелируют признаки Ap_hi и Ap_lo***"
   ]
  },
  {
   "cell_type": "markdown",
   "metadata": {},
   "source": [
    "## 4. Совместное распределение признаков"
   ]
  },
  {
   "cell_type": "markdown",
   "metadata": {},
   "source": [
    "Постройте совместный график распределения jointplot двух наиболее коррелирующих между собой признаков (по Спирмену)."
   ]
  },
  {
   "cell_type": "code",
   "execution_count": 36,
   "metadata": {},
   "outputs": [
    {
     "data": {},
     "metadata": {},
     "output_type": "display_data"
    },
    {
     "data": {
      "image/png": "[encoded data removed]",
      "text/plain": [
       "plot without title"
      ]
     },
     "metadata": {},
     "output_type": "display_data"
    }
   ],
   "source": [
    "plot <- ggplot(df, aes(y = ap_lo, x = ap_hi))\n",
    "plot + geom_point()"
   ]
  },
  {
   "cell_type": "markdown",
   "metadata": {},
   "source": [
    "Кажется, наш график получился неинформативным из-за выбросов в значениях. Постройте тот же график, предварительно прологарифмируя значения."
   ]
  },
  {
   "cell_type": "code",
   "execution_count": 7,
   "metadata": {},
   "outputs": [
    {
     "name": "stderr",
     "output_type": "stream",
     "text": [
      "Warning message in eval(expr, envir, enclos):\n",
      "\"созданы NaN\"Warning message in eval(expr, envir, enclos):\n",
      "\"созданы NaN\""
     ]
    }
   ],
   "source": [
    "df$log_ap_hi <- log(df$ap_hi, 10)\n",
    "df$log_ap_lo <- log(df$ap_lo, 10)"
   ]
  },
  {
   "cell_type": "code",
   "execution_count": 11,
   "metadata": {},
   "outputs": [
    {
     "name": "stderr",
     "output_type": "stream",
     "text": [
      "Warning message:\n",
      "\"Removed 8 rows containing missing values (geom_point).\""
     ]
    },
    {
     "data": {},
     "metadata": {},
     "output_type": "display_data"
    },
    {
     "data": {
      "image/png": "[encoded data removed]",
      "text/plain": [
       "plot without title"
      ]
     },
     "metadata": {},
     "output_type": "display_data"
    }
   ],
   "source": [
    "plot2 <- ggplot(df, aes(y = log_ap_lo, x = log_ap_hi))\n",
    "plot2 + geom_point()"
   ]
  },
  {
   "cell_type": "markdown",
   "metadata": {},
   "source": [
    "### 4.1 Сколько чётко выраженных кластеров получилось на  совместном графике выбранных признаков, с логарифмической шкалой? Под кластером в данной задаче понимается плотное скопление точек, в окрестности которого пренебрежительно мало одиночных наблюдений и которое визуально отделимо от других кластеров.\n",
    "\n",
    "- 1\n",
    "- 2\n",
    "- 3\n",
    "- больше трех"
   ]
  },
  {
   "cell_type": "markdown",
   "metadata": {},
   "source": [
    "***Ответ: получилось больше трех четко выраженных кластера***"
   ]
  },
  {
   "cell_type": "markdown",
   "metadata": {},
   "source": [
    "## 5. Возраст"
   ]
  },
  {
   "cell_type": "markdown",
   "metadata": {},
   "source": [
    "Посчитаем, сколько полных лет было респондентам на момент занесения их в базу"
   ]
  },
  {
   "cell_type": "code",
   "execution_count": 14,
   "metadata": {},
   "outputs": [],
   "source": [
    "df$age_year <- round(df$age / 365.25)"
   ]
  },
  {
   "cell_type": "markdown",
   "metadata": {},
   "source": [
    "Постройте Countplot, где на оси абсцисс будет отмечен возраст, на оси ординат - количество. Каждое значение возраста должно иметь два столбца, соответствующих количеству человек каждого класса **cardio** данного возраста."
   ]
  },
  {
   "cell_type": "code",
   "execution_count": 29,
   "metadata": {},
   "outputs": [
    {
     "data": {},
     "metadata": {},
     "output_type": "display_data"
    },
    {
     "data": {
      "image/png": "[encoded data removed]",
      "text/plain": [
       "plot without title"
      ]
     },
     "metadata": {},
     "output_type": "display_data"
    }
   ],
   "source": [
    "ggplot(df, aes(x = age_year)) +\n",
    "geom_bar(aes(fill=factor(cardio)), position=\"dodge\")"
   ]
  },
  {
   "cell_type": "markdown",
   "metadata": {},
   "source": [
    "### 5. В каком возрасте количество пациентов с ССЗ  впервые становится больше, чем здоровых?\n",
    "- 44\n",
    "- 49\n",
    "- 53\n",
    "- 62"
   ]
  },
  {
   "cell_type": "markdown",
   "metadata": {},
   "source": [
    "***Ответ: начиная от 53-х лет количество поциентов с ССЗ становится больше, чем здоровых***"
   ]
  }
 ],
 "metadata": {
  "kernelspec": {
   "display_name": "R",
   "language": "R",
   "name": "ir"
  },
  "language_info": {
   "codemirror_mode": "r",
   "file_extension": ".r",
   "mimetype": "text/x-r-source",
   "name": "R",
   "pygments_lexer": "r",
   "version": "3.4.3"
  }
 },
 "nbformat": 4,
 "nbformat_minor": 2
}
