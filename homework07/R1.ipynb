{
 "cells": [
  {
   "cell_type": "markdown",
   "metadata": {},
   "source": [
    "# Неделя 1. Решение на R\n"
   ]
  },
  {
   "cell_type": "code",
   "execution_count": 3,
   "metadata": {},
   "outputs": [],
   "source": [
    "df <- read.csv(file=\"mlbootcamp5_train.csv\", header=TRUE, sep=\";\")"
   ]
  },
  {
   "cell_type": "code",
   "execution_count": 4,
   "metadata": {},
   "outputs": [
    {
     "data": {
      "text/html": [
       "<table>\n",
       "<thead><tr><th scope=col>id</th><th scope=col>age</th><th scope=col>gender</th><th scope=col>height</th><th scope=col>weight</th><th scope=col>ap_hi</th><th scope=col>ap_lo</th><th scope=col>cholesterol</th><th scope=col>gluc</th><th scope=col>smoke</th><th scope=col>alco</th><th scope=col>active</th><th scope=col>cardio</th></tr></thead>\n",
       "<tbody>\n",
       "\t<tr><td>0    </td><td>18393</td><td>2    </td><td>168  </td><td>62   </td><td>110  </td><td> 80  </td><td>1    </td><td>1    </td><td>0    </td><td>0    </td><td>1    </td><td>0    </td></tr>\n",
       "\t<tr><td>1    </td><td>20228</td><td>1    </td><td>156  </td><td>85   </td><td>140  </td><td> 90  </td><td>3    </td><td>1    </td><td>0    </td><td>0    </td><td>1    </td><td>1    </td></tr>\n",
       "\t<tr><td>2    </td><td>18857</td><td>1    </td><td>165  </td><td>64   </td><td>130  </td><td> 70  </td><td>3    </td><td>1    </td><td>0    </td><td>0    </td><td>0    </td><td>1    </td></tr>\n",
       "\t<tr><td>3    </td><td>17623</td><td>2    </td><td>169  </td><td>82   </td><td>150  </td><td>100  </td><td>1    </td><td>1    </td><td>0    </td><td>0    </td><td>1    </td><td>1    </td></tr>\n",
       "\t<tr><td>4    </td><td>17474</td><td>1    </td><td>156  </td><td>56   </td><td>100  </td><td> 60  </td><td>1    </td><td>1    </td><td>0    </td><td>0    </td><td>0    </td><td>0    </td></tr>\n",
       "\t<tr><td>8    </td><td>21914</td><td>1    </td><td>151  </td><td>67   </td><td>120  </td><td> 80  </td><td>2    </td><td>2    </td><td>0    </td><td>0    </td><td>0    </td><td>0    </td></tr>\n",
       "</tbody>\n",
       "</table>\n"
      ],
      "text/latex": [
       "\\begin{tabular}{r|lllllllllllll}\n",
       " id & age & gender & height & weight & ap\\_hi & ap\\_lo & cholesterol & gluc & smoke & alco & active & cardio\\\\\n",
       "\\hline\n",
       "\t 0     & 18393 & 2     & 168   & 62    & 110   &  80   & 1     & 1     & 0     & 0     & 1     & 0    \\\\\n",
       "\t 1     & 20228 & 1     & 156   & 85    & 140   &  90   & 3     & 1     & 0     & 0     & 1     & 1    \\\\\n",
       "\t 2     & 18857 & 1     & 165   & 64    & 130   &  70   & 3     & 1     & 0     & 0     & 0     & 1    \\\\\n",
       "\t 3     & 17623 & 2     & 169   & 82    & 150   & 100   & 1     & 1     & 0     & 0     & 1     & 1    \\\\\n",
       "\t 4     & 17474 & 1     & 156   & 56    & 100   &  60   & 1     & 1     & 0     & 0     & 0     & 0    \\\\\n",
       "\t 8     & 21914 & 1     & 151   & 67    & 120   &  80   & 2     & 2     & 0     & 0     & 0     & 0    \\\\\n",
       "\\end{tabular}\n"
      ],
      "text/markdown": [
       "\n",
       "id | age | gender | height | weight | ap_hi | ap_lo | cholesterol | gluc | smoke | alco | active | cardio | \n",
       "|---|---|---|---|---|---|\n",
       "| 0     | 18393 | 2     | 168   | 62    | 110   |  80   | 1     | 1     | 0     | 0     | 1     | 0     | \n",
       "| 1     | 20228 | 1     | 156   | 85    | 140   |  90   | 3     | 1     | 0     | 0     | 1     | 1     | \n",
       "| 2     | 18857 | 1     | 165   | 64    | 130   |  70   | 3     | 1     | 0     | 0     | 0     | 1     | \n",
       "| 3     | 17623 | 2     | 169   | 82    | 150   | 100   | 1     | 1     | 0     | 0     | 1     | 1     | \n",
       "| 4     | 17474 | 1     | 156   | 56    | 100   |  60   | 1     | 1     | 0     | 0     | 0     | 0     | \n",
       "| 8     | 21914 | 1     | 151   | 67    | 120   |  80   | 2     | 2     | 0     | 0     | 0     | 0     | \n",
       "\n",
       "\n"
      ],
      "text/plain": [
       "  id age   gender height weight ap_hi ap_lo cholesterol gluc smoke alco active\n",
       "1 0  18393 2      168    62     110    80   1           1    0     0    1     \n",
       "2 1  20228 1      156    85     140    90   3           1    0     0    1     \n",
       "3 2  18857 1      165    64     130    70   3           1    0     0    0     \n",
       "4 3  17623 2      169    82     150   100   1           1    0     0    1     \n",
       "5 4  17474 1      156    56     100    60   1           1    0     0    0     \n",
       "6 8  21914 1      151    67     120    80   2           2    0     0    0     \n",
       "  cardio\n",
       "1 0     \n",
       "2 1     \n",
       "3 1     \n",
       "4 1     \n",
       "5 0     \n",
       "6 0     "
      ]
     },
     "metadata": {},
     "output_type": "display_data"
    }
   ],
   "source": [
    "head(df)"
   ]
  },
  {
   "cell_type": "markdown",
   "metadata": {},
   "source": [
    "**<font color='red'>Вопрос 1.</font> Сколько мужчин и женщин представлено в этом наборе данных? Не было дано расшифровки признака \"пол\" (какому полу соответствует 1, а какому – 2 в признаке ``gender``) – это определите, посмотрев также на рост при разумном предположении, что в среднем мужчины выше (здесь и далее под средним понимается среднее арифметическое).**"
   ]
  },
  {
   "cell_type": "code",
   "execution_count": 5,
   "metadata": {},
   "outputs": [
    {
     "data": {
      "text/html": [
       "161.355611684604"
      ],
      "text/latex": [
       "161.355611684604"
      ],
      "text/markdown": [
       "161.355611684604"
      ],
      "text/plain": [
       "[1] 161.3556"
      ]
     },
     "metadata": {},
     "output_type": "display_data"
    }
   ],
   "source": [
    "mean(df$height[df$gender == 1])"
   ]
  },
  {
   "cell_type": "code",
   "execution_count": 6,
   "metadata": {},
   "outputs": [
    {
     "data": {
      "text/html": [
       "169.947895382101"
      ],
      "text/latex": [
       "169.947895382101"
      ],
      "text/markdown": [
       "169.947895382101"
      ],
      "text/plain": [
       "[1] 169.9479"
      ]
     },
     "metadata": {},
     "output_type": "display_data"
    }
   ],
   "source": [
    "mean(df$height[df$gender == 2])"
   ]
  },
  {
   "cell_type": "markdown",
   "metadata": {},
   "source": [
    "- 1 соответствует женщинам, 2 - мужчинам"
   ]
  },
  {
   "cell_type": "code",
   "execution_count": 16,
   "metadata": {},
   "outputs": [],
   "source": [
    "female <- which((df$gender == 1) == TRUE)\n",
    "male <- which((df$gender == 2) == TRUE)"
   ]
  },
  {
   "cell_type": "code",
   "execution_count": 17,
   "metadata": {},
   "outputs": [
    {
     "data": {
      "text/html": [
       "45530"
      ],
      "text/latex": [
       "45530"
      ],
      "text/markdown": [
       "45530"
      ],
      "text/plain": [
       "[1] 45530"
      ]
     },
     "metadata": {},
     "output_type": "display_data"
    },
    {
     "data": {
      "text/html": [
       "24470"
      ],
      "text/latex": [
       "24470"
      ],
      "text/markdown": [
       "24470"
      ],
      "text/plain": [
       "[1] 24470"
      ]
     },
     "metadata": {},
     "output_type": "display_data"
    }
   ],
   "source": [
    "length(female)\n",
    "length(male)"
   ]
  },
  {
   "cell_type": "markdown",
   "metadata": {},
   "source": [
    "***Ответ: 45530 женщин и 24470 мужчин***"
   ]
  },
  {
   "cell_type": "markdown",
   "metadata": {},
   "source": [
    "**<font color='red'>Вопрос 2.</font> Кто в среднем реже указывает, что употребляет алкоголь – мужчины или женщины?**"
   ]
  },
  {
   "cell_type": "code",
   "execution_count": 22,
   "metadata": {},
   "outputs": [
    {
     "data": {
      "text/html": [
       "1161"
      ],
      "text/latex": [
       "1161"
      ],
      "text/markdown": [
       "1161"
      ],
      "text/plain": [
       "[1] 1161"
      ]
     },
     "metadata": {},
     "output_type": "display_data"
    }
   ],
   "source": [
    "length(which((df$alco == 1) & (df$gender == 1)) == TRUE)"
   ]
  },
  {
   "cell_type": "code",
   "execution_count": 20,
   "metadata": {},
   "outputs": [
    {
     "data": {
      "text/html": [
       "2603"
      ],
      "text/latex": [
       "2603"
      ],
      "text/markdown": [
       "2603"
      ],
      "text/plain": [
       "[1] 2603"
      ]
     },
     "metadata": {},
     "output_type": "display_data"
    }
   ],
   "source": [
    " length(which((df$alco == 1) & (df$gender == 2)) == TRUE)"
   ]
  },
  {
   "cell_type": "markdown",
   "metadata": {},
   "source": [
    "***Ответ: женщины в среднем реже указывают, что употребляют алкоголь***"
   ]
  },
  {
   "cell_type": "markdown",
   "metadata": {},
   "source": [
    "**<font color='red'>Вопрос 3.</font> Во сколько раз (округленно, `round`) процент курящих среди мужчин больше, чем процент курящих среди женщин (по крайней мере, по этим анкетным данным)?**"
   ]
  },
  {
   "cell_type": "code",
   "execution_count": 34,
   "metadata": {},
   "outputs": [
    {
     "data": {
      "text/html": [
       "12"
      ],
      "text/latex": [
       "12"
      ],
      "text/markdown": [
       "12"
      ],
      "text/plain": [
       "[1] 12"
      ]
     },
     "metadata": {},
     "output_type": "display_data"
    }
   ],
   "source": [
    "for_wom <- (length(which((df$smoke == 1) & (df$gender == 1)) == TRUE) / length(female)) \n",
    "for_men <- (length(which((df$smoke == 1) & (df$gender == 2)) == TRUE) / length(male))\n",
    "round(for_men / for_wom)"
   ]
  },
  {
   "cell_type": "markdown",
   "metadata": {},
   "source": [
    "***Ответ: Процент курящих среди мужчин в 12 раз больше, чем процент курящих среди женщин***"
   ]
  },
  {
   "cell_type": "markdown",
   "metadata": {},
   "source": [
    "**<font color='red'>Вопрос 4.</font> Вы наверняка заметили, что значения возраста какие-то странные. Догадайтесь, в чём здесь измеряется возраст, и ответьте, на сколько месяцев (примерно) отличаются медианные значения возраста курящих и некурящих.**"
   ]
  },
  {
   "cell_type": "code",
   "execution_count": 47,
   "metadata": {},
   "outputs": [
    {
     "data": {
      "text/html": [
       "20"
      ],
      "text/latex": [
       "20"
      ],
      "text/markdown": [
       "20"
      ],
      "text/plain": [
       "[1] 20"
      ]
     },
     "metadata": {},
     "output_type": "display_data"
    }
   ],
   "source": [
    "df$age_years <- df$age / 365.25\n",
    "smoke <- median(df$age_years[df$smoke == 1])\n",
    "nonsmoke <- median(df$age_years[df$smoke == 0])\n",
    "round((nonsmoke - smoke)*12)"
   ]
  },
  {
   "cell_type": "markdown",
   "metadata": {},
   "source": [
    "***Ответ: Медианные значения возраста курящих и некрящих отличаются приблизительно на 20 месяцев***"
   ]
  },
  {
   "cell_type": "markdown",
   "metadata": {},
   "source": [
    "**<font color='red'> Вопрос 5.</font>Интересуют 2 подвыборки курящих мужчин возраста от 60 до 64 лет включительно: первая с верхним артериальным давлением строго меньше 120 мм рт.ст. и концентрацией холестерина – 4 ммоль/л, а вторая – с верхним артериальным давлением от 160 (включительно) до 180 мм рт.ст. (не включительно) и концентрацией холестерина – 8 ммоль/л.\n",
    "Во сколько раз (округленно, `round`) отличаются доли больных людей (согласно целевому признаку, `cardio`) в этих двух подвыборках? Посчитайте на наших данных.**"
   ]
  },
  {
   "cell_type": "code",
   "execution_count": 76,
   "metadata": {},
   "outputs": [
    {
     "data": {
      "text/html": [
       "3"
      ],
      "text/latex": [
       "3"
      ],
      "text/markdown": [
       "3"
      ],
      "text/plain": [
       "[1] 3"
      ]
     },
     "metadata": {},
     "output_type": "display_data"
    }
   ],
   "source": [
    "men2 <- df$cardio[(df$gender == 2) & (df$smoke == 1) & (df$age_years >= 60) & (df$age_years <= 64) \n",
    "                  & (df$ap_hi >= 160) & (df$ap_hi < 180) & (df$cholesterol == 3)]\n",
    "men1 <- df$cardio[(df$gender == 2) & (df$smoke == 1) & (df$age_years >= 60) & (df$age_years <= 64) \n",
    "                  & (df$ap_hi < 120) & (df$cholesterol == 1)]\n",
    "round(mean(men2)/mean(men1))"
   ]
  },
  {
   "cell_type": "markdown",
   "metadata": {},
   "source": [
    "***Ответ: доля больных из первой выборки в три раза меньше, чем доля больных из второй***"
   ]
  },
  {
   "cell_type": "markdown",
   "metadata": {},
   "source": [
    "**<font color='red'>Вопрос 6.</font> Постройте новый признак – BMI ([Body Mass Index](https://en.wikipedia.org/wiki/Body_mass_index)). Для этого надо вес в килограммах поделить на квадрат роста в метрах. Нормальными считаются значения BMI от 18.5 до 25. Выберите верные утверждения.**"
   ]
  },
  {
   "cell_type": "markdown",
   "metadata": {},
   "source": [
    "**<font color='red'>Утверждения:</font>**\n",
    "- Медианный BMI по выборке превышает норму\n",
    "- У женщин в среднем BMI ниже, чем у мужчин\n",
    "- У здоровых в среднем BMI выше, чем у больных\n",
    "- В сегменте здоровых и непьющих мужчин в среднем BMI ближе к норме, чем в сегменте здоровых и непьющих женщин"
   ]
  },
  {
   "cell_type": "code",
   "execution_count": 77,
   "metadata": {},
   "outputs": [],
   "source": [
    "df$BMI <- df$weight / (df$height/100)**2"
   ]
  },
  {
   "cell_type": "code",
   "execution_count": 78,
   "metadata": {},
   "outputs": [
    {
     "data": {
      "text/html": [
       "<table>\n",
       "<thead><tr><th scope=col>id</th><th scope=col>age</th><th scope=col>gender</th><th scope=col>height</th><th scope=col>weight</th><th scope=col>ap_hi</th><th scope=col>ap_lo</th><th scope=col>cholesterol</th><th scope=col>gluc</th><th scope=col>smoke</th><th scope=col>alco</th><th scope=col>active</th><th scope=col>cardio</th><th scope=col>age_years</th><th scope=col>BMI</th></tr></thead>\n",
       "<tbody>\n",
       "\t<tr><td>0       </td><td>18393   </td><td>2       </td><td>168     </td><td>62      </td><td>110     </td><td> 80     </td><td>1       </td><td>1       </td><td>0       </td><td>0       </td><td>1       </td><td>0       </td><td>50.35729</td><td>21.96712</td></tr>\n",
       "\t<tr><td>1       </td><td>20228   </td><td>1       </td><td>156     </td><td>85      </td><td>140     </td><td> 90     </td><td>3       </td><td>1       </td><td>0       </td><td>0       </td><td>1       </td><td>1       </td><td>55.38125</td><td>34.92768</td></tr>\n",
       "\t<tr><td>2       </td><td>18857   </td><td>1       </td><td>165     </td><td>64      </td><td>130     </td><td> 70     </td><td>3       </td><td>1       </td><td>0       </td><td>0       </td><td>0       </td><td>1       </td><td>51.62765</td><td>23.50781</td></tr>\n",
       "\t<tr><td>3       </td><td>17623   </td><td>2       </td><td>169     </td><td>82      </td><td>150     </td><td>100     </td><td>1       </td><td>1       </td><td>0       </td><td>0       </td><td>1       </td><td>1       </td><td>48.24914</td><td>28.71048</td></tr>\n",
       "\t<tr><td>4       </td><td>17474   </td><td>1       </td><td>156     </td><td>56      </td><td>100     </td><td> 60     </td><td>1       </td><td>1       </td><td>0       </td><td>0       </td><td>0       </td><td>0       </td><td>47.84120</td><td>23.01118</td></tr>\n",
       "\t<tr><td>8       </td><td>21914   </td><td>1       </td><td>151     </td><td>67      </td><td>120     </td><td> 80     </td><td>2       </td><td>2       </td><td>0       </td><td>0       </td><td>0       </td><td>0       </td><td>59.99726</td><td>29.38468</td></tr>\n",
       "</tbody>\n",
       "</table>\n"
      ],
      "text/latex": [
       "\\begin{tabular}{r|lllllllllllllll}\n",
       " id & age & gender & height & weight & ap\\_hi & ap\\_lo & cholesterol & gluc & smoke & alco & active & cardio & age\\_years & BMI\\\\\n",
       "\\hline\n",
       "\t 0        & 18393    & 2        & 168      & 62       & 110      &  80      & 1        & 1        & 0        & 0        & 1        & 0        & 50.35729 & 21.96712\\\\\n",
       "\t 1        & 20228    & 1        & 156      & 85       & 140      &  90      & 3        & 1        & 0        & 0        & 1        & 1        & 55.38125 & 34.92768\\\\\n",
       "\t 2        & 18857    & 1        & 165      & 64       & 130      &  70      & 3        & 1        & 0        & 0        & 0        & 1        & 51.62765 & 23.50781\\\\\n",
       "\t 3        & 17623    & 2        & 169      & 82       & 150      & 100      & 1        & 1        & 0        & 0        & 1        & 1        & 48.24914 & 28.71048\\\\\n",
       "\t 4        & 17474    & 1        & 156      & 56       & 100      &  60      & 1        & 1        & 0        & 0        & 0        & 0        & 47.84120 & 23.01118\\\\\n",
       "\t 8        & 21914    & 1        & 151      & 67       & 120      &  80      & 2        & 2        & 0        & 0        & 0        & 0        & 59.99726 & 29.38468\\\\\n",
       "\\end{tabular}\n"
      ],
      "text/markdown": [
       "\n",
       "id | age | gender | height | weight | ap_hi | ap_lo | cholesterol | gluc | smoke | alco | active | cardio | age_years | BMI | \n",
       "|---|---|---|---|---|---|\n",
       "| 0        | 18393    | 2        | 168      | 62       | 110      |  80      | 1        | 1        | 0        | 0        | 1        | 0        | 50.35729 | 21.96712 | \n",
       "| 1        | 20228    | 1        | 156      | 85       | 140      |  90      | 3        | 1        | 0        | 0        | 1        | 1        | 55.38125 | 34.92768 | \n",
       "| 2        | 18857    | 1        | 165      | 64       | 130      |  70      | 3        | 1        | 0        | 0        | 0        | 1        | 51.62765 | 23.50781 | \n",
       "| 3        | 17623    | 2        | 169      | 82       | 150      | 100      | 1        | 1        | 0        | 0        | 1        | 1        | 48.24914 | 28.71048 | \n",
       "| 4        | 17474    | 1        | 156      | 56       | 100      |  60      | 1        | 1        | 0        | 0        | 0        | 0        | 47.84120 | 23.01118 | \n",
       "| 8        | 21914    | 1        | 151      | 67       | 120      |  80      | 2        | 2        | 0        | 0        | 0        | 0        | 59.99726 | 29.38468 | \n",
       "\n",
       "\n"
      ],
      "text/plain": [
       "  id age   gender height weight ap_hi ap_lo cholesterol gluc smoke alco active\n",
       "1 0  18393 2      168    62     110    80   1           1    0     0    1     \n",
       "2 1  20228 1      156    85     140    90   3           1    0     0    1     \n",
       "3 2  18857 1      165    64     130    70   3           1    0     0    0     \n",
       "4 3  17623 2      169    82     150   100   1           1    0     0    1     \n",
       "5 4  17474 1      156    56     100    60   1           1    0     0    0     \n",
       "6 8  21914 1      151    67     120    80   2           2    0     0    0     \n",
       "  cardio age_years BMI     \n",
       "1 0      50.35729  21.96712\n",
       "2 1      55.38125  34.92768\n",
       "3 1      51.62765  23.50781\n",
       "4 1      48.24914  28.71048\n",
       "5 0      47.84120  23.01118\n",
       "6 0      59.99726  29.38468"
      ]
     },
     "metadata": {},
     "output_type": "display_data"
    }
   ],
   "source": [
    "head(df)"
   ]
  },
  {
   "cell_type": "code",
   "execution_count": 81,
   "metadata": {},
   "outputs": [
    {
     "data": {
      "text/html": [
       "26.374068120775"
      ],
      "text/latex": [
       "26.374068120775"
      ],
      "text/markdown": [
       "26.374068120775"
      ],
      "text/plain": [
       "[1] 26.37407"
      ]
     },
     "metadata": {},
     "output_type": "display_data"
    }
   ],
   "source": [
    "# Утверждение 1 - верно\n",
    "median(df$BMI)"
   ]
  },
  {
   "cell_type": "code",
   "execution_count": 82,
   "metadata": {},
   "outputs": [
    {
     "data": {
      "text/html": [
       "27.9875834418329"
      ],
      "text/latex": [
       "27.9875834418329"
      ],
      "text/markdown": [
       "27.9875834418329"
      ],
      "text/plain": [
       "[1] 27.98758"
      ]
     },
     "metadata": {},
     "output_type": "display_data"
    },
    {
     "data": {
      "text/html": [
       "26.7544423572894"
      ],
      "text/latex": [
       "26.7544423572894"
      ],
      "text/markdown": [
       "26.7544423572894"
      ],
      "text/plain": [
       "[1] 26.75444"
      ]
     },
     "metadata": {},
     "output_type": "display_data"
    }
   ],
   "source": [
    "# Утверждение 2 - неверно\n",
    "mean(df$BMI[df$gender == 1])\n",
    "mean(df$BMI[df$gender == 2])"
   ]
  },
  {
   "cell_type": "code",
   "execution_count": 83,
   "metadata": {},
   "outputs": [
    {
     "data": {
      "text/html": [
       "26.5481752067945"
      ],
      "text/latex": [
       "26.5481752067945"
      ],
      "text/markdown": [
       "26.5481752067945"
      ],
      "text/plain": [
       "[1] 26.54818"
      ]
     },
     "metadata": {},
     "output_type": "display_data"
    },
    {
     "data": {
      "text/html": [
       "28.5660606270153"
      ],
      "text/latex": [
       "28.5660606270153"
      ],
      "text/markdown": [
       "28.5660606270153"
      ],
      "text/plain": [
       "[1] 28.56606"
      ]
     },
     "metadata": {},
     "output_type": "display_data"
    }
   ],
   "source": [
    "# Утверждение 3 - неверно\n",
    "mean(df$BMI[df$cardio == 0])\n",
    "mean(df$BMI[df$cardio == 1])"
   ]
  },
  {
   "cell_type": "code",
   "execution_count": 85,
   "metadata": {},
   "outputs": [
    {
     "data": {
      "text/html": [
       "25.8726380754602"
      ],
      "text/latex": [
       "25.8726380754602"
      ],
      "text/markdown": [
       "25.8726380754602"
      ],
      "text/plain": [
       "[1] 25.87264"
      ]
     },
     "metadata": {},
     "output_type": "display_data"
    },
    {
     "data": {
      "text/html": [
       "26.8454065941315"
      ],
      "text/latex": [
       "26.8454065941315"
      ],
      "text/markdown": [
       "26.8454065941315"
      ],
      "text/plain": [
       "[1] 26.84541"
      ]
     },
     "metadata": {},
     "output_type": "display_data"
    }
   ],
   "source": [
    "# Утверждение 4 - верно\n",
    "mean(df$BMI[(df$cardio == 0) & (df$alco == 0) & (df$gender == 2)])\n",
    "mean(df$BMI[(df$cardio == 0) & (df$alco == 0) & (df$gender == 1)])"
   ]
  },
  {
   "cell_type": "markdown",
   "metadata": {},
   "source": [
    "***Ответ: верны первое и последнее утверждения***"
   ]
  },
  {
   "cell_type": "markdown",
   "metadata": {},
   "source": [
    "**<font color='red'>Вопрос 7.</font> ** \n",
    "\n",
    "Отфильтруйте следующие сегменты пациентов (считаем это ошибками в данных)\n",
    "- указанное нижнее значение артериального давления строго выше верхнего\n",
    "- рост строго меньше 2.5%-перцентили или строго больше 97.5%-перцентили \n",
    "- вес строго меньше 2.5%-перцентили или строго больше 97.5%-перцентили\n",
    "Сколько процентов данных (округленно, `round`) мы выбросили?"
   ]
  },
  {
   "cell_type": "code",
   "execution_count": 112,
   "metadata": {},
   "outputs": [
    {
     "data": {
      "text/html": [
       "10"
      ],
      "text/latex": [
       "10"
      ],
      "text/markdown": [
       "10"
      ],
      "text/plain": [
       "[1] 10"
      ]
     },
     "metadata": {},
     "output_type": "display_data"
    }
   ],
   "source": [
    "filtered_data <- length(df$BMI[(df$ap_hi >= df$ap_lo) & \n",
    "                    (df$height >= quantile(df$height, 0.025)) & (df$height <= quantile(df$height, 0.975)) &\n",
    "                   (df$weight >= quantile(df$weight, 0.025)) & (df$weight <= quantile(df$weight, 0.975))])\n",
    "round(100 - filtered_data * 100 / length(df$BMI))"
   ]
  },
  {
   "cell_type": "markdown",
   "metadata": {},
   "source": [
    "***Ответ: выбросили 10 процентов исходных данных***"
   ]
  }
 ],
 "metadata": {
  "kernelspec": {
   "display_name": "R",
   "language": "R",
   "name": "ir"
  },
  "language_info": {
   "codemirror_mode": "r",
   "file_extension": ".r",
   "mimetype": "text/x-r-source",
   "name": "R",
   "pygments_lexer": "r",
   "version": "3.4.3"
  }
 },
 "nbformat": 4,
 "nbformat_minor": 2
}
